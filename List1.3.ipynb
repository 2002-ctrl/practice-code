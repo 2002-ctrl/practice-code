{
 "cells": [
  {
   "cell_type": "raw",
   "id": "180b0e40-25c5-4dc4-99cf-3c3850ef5f07",
   "metadata": {},
   "source": [
    "#real time examples of list"
   ]
  },
  {
   "cell_type": "code",
   "execution_count": null,
   "id": "627c0fa6-af81-469b-846b-677b13119bb7",
   "metadata": {},
   "outputs": [],
   "source": [
    "#Example 1= Manage to do list\n"
   ]
  },
  {
   "cell_type": "code",
   "execution_count": 9,
   "id": "ad26b44a-7f5e-4880-8b4e-48c6568abd9c",
   "metadata": {},
   "outputs": [],
   "source": [
    "to_do_list=[\"Buy Groceries\",\"Clean the house\",\"Pay bills\"]"
   ]
  },
  {
   "cell_type": "code",
   "execution_count": 20,
   "id": "c2345b79-11a4-476b-bbd5-71d37ba9c5f0",
   "metadata": {},
   "outputs": [
    {
     "ename": "TypeError",
     "evalue": "list.append() takes exactly one argument (2 given)",
     "output_type": "error",
     "traceback": [
      "\u001b[1;31m---------------------------------------------------------------------------\u001b[0m",
      "\u001b[1;31mTypeError\u001b[0m                                 Traceback (most recent call last)",
      "Cell \u001b[1;32mIn[20], line 1\u001b[0m\n\u001b[1;32m----> 1\u001b[0m to_do_list\u001b[38;5;241m.\u001b[39mappend(\u001b[38;5;124m\"\u001b[39m\u001b[38;5;124mschedule metting\u001b[39m\u001b[38;5;124m\"\u001b[39m,\u001b[38;5;124m\"\u001b[39m\u001b[38;5;124mgo for walk\u001b[39m\u001b[38;5;124m\"\u001b[39m)\n",
      "\u001b[1;31mTypeError\u001b[0m: list.append() takes exactly one argument (2 given)"
     ]
    }
   ],
   "source": [
    "to_do_list.append(\"schedule metting\",\"go for walk\")"
   ]
  },
  {
   "cell_type": "code",
   "execution_count": 22,
   "id": "9eafd45c-7853-4e6d-8345-109e34ac1624",
   "metadata": {},
   "outputs": [
    {
     "name": "stdout",
     "output_type": "stream",
     "text": [
      "['Buy Groceries', 'Clean the house', 'Pay bills', 'schedule metting', 'to go for walk', 'schedule metting', 'to go for walk', 'schedule metting']\n"
     ]
    }
   ],
   "source": [
    "print(to_do_list)"
   ]
  },
  {
   "cell_type": "code",
   "execution_count": 24,
   "id": "3a169169-3fc0-47db-9521-567f795dc55f",
   "metadata": {},
   "outputs": [],
   "source": [
    "to_do_list.remove(\"Buy Groceries\")"
   ]
  },
  {
   "cell_type": "code",
   "execution_count": 26,
   "id": "4be3455e-e4ff-496d-a611-f5fbd50d3a7f",
   "metadata": {},
   "outputs": [
    {
     "name": "stdout",
     "output_type": "stream",
     "text": [
      "['Clean the house', 'Pay bills', 'schedule metting', 'to go for walk', 'schedule metting', 'to go for walk', 'schedule metting']\n"
     ]
    }
   ],
   "source": [
    "print(to_do_list)"
   ]
  },
  {
   "cell_type": "code",
   "execution_count": null,
   "id": "ef7f9162-4fae-4987-8dbc-379b3a592f16",
   "metadata": {},
   "outputs": [],
   "source": [
    "#Example 2\n",
    "organising student grades\n"
   ]
  },
  {
   "cell_type": "code",
   "execution_count": 23,
   "id": "89394aa0-b08a-40d8-b2ff-cb707e268656",
   "metadata": {},
   "outputs": [],
   "source": [
    "grades=(85, 92, 78, 90, 88)"
   ]
  },
  {
   "cell_type": "code",
   "execution_count": 25,
   "id": "67621aa6-0dbc-4652-a45e-dbf8f9afac87",
   "metadata": {},
   "outputs": [
    {
     "name": "stdout",
     "output_type": "stream",
     "text": [
      "Average Grade: 86.60\n"
     ]
    }
   ],
   "source": [
    "# Calculating the average grade\n",
    "average_grade = sum(grades) / len(grades)\n",
    "print(f\"Average Grade: {average_grade:.2f}\")"
   ]
  },
  {
   "cell_type": "code",
   "execution_count": 36,
   "id": "1295bcac-2129-4ea6-8547-027d2dbd9e18",
   "metadata": {},
   "outputs": [
    {
     "name": "stdout",
     "output_type": "stream",
     "text": [
      "Highest Grade:92\n",
      "Lowest Graade:78\n"
     ]
    }
   ],
   "source": [
    "highest_grade=max(grades)\n",
    "lowest_grade=min(grades)\n",
    "print(f\"Highest Grade:{highest_grade}\")\n",
    "print(f\"Lowest Graade:{lowest_grade}\")"
   ]
  },
  {
   "cell_type": "code",
   "execution_count": null,
   "id": "ff4ccb9c-7ee8-4089-91b0-af96276a951f",
   "metadata": {},
   "outputs": [],
   "source": [
    "#Managing Inventory\n",
    "#use a list to manage inventory in store"
   ]
  },
  {
   "cell_type": "code",
   "execution_count": 46,
   "id": "6b311d9a-23c6-4fa0-81be-d2d0e133e03c",
   "metadata": {},
   "outputs": [],
   "source": [
    "inventory = [\"apples\", \"bananas\", \"oranges\", \"grapes\"]"
   ]
  },
  {
   "cell_type": "code",
   "execution_count": 48,
   "id": "93a2dee8-54d3-4d61-a953-3d03e1485e00",
   "metadata": {},
   "outputs": [],
   "source": [
    "inventory.append(\"strawberries\")"
   ]
  },
  {
   "cell_type": "code",
   "execution_count": 50,
   "id": "26ed9007-c84d-4729-8367-4135dd5d0fe5",
   "metadata": {},
   "outputs": [
    {
     "name": "stdout",
     "output_type": "stream",
     "text": [
      "['apples', 'bananas', 'oranges', 'grapes', 'strawberries']\n"
     ]
    }
   ],
   "source": [
    "print(inventory)"
   ]
  },
  {
   "cell_type": "code",
   "execution_count": 54,
   "id": "428173ee-fdb4-437f-b6b8-c4947d9951cb",
   "metadata": {},
   "outputs": [],
   "source": [
    "inventory.remove(\"bananas\")"
   ]
  },
  {
   "cell_type": "code",
   "execution_count": 56,
   "id": "81383c8a-9957-4f55-88b8-3a1fdb7d3d45",
   "metadata": {},
   "outputs": [
    {
     "name": "stdout",
     "output_type": "stream",
     "text": [
      "['apples', 'oranges', 'grapes', 'strawberries']\n"
     ]
    }
   ],
   "source": [
    "print(inventory)"
   ]
  },
  {
   "cell_type": "code",
   "execution_count": 73,
   "id": "6b80e415-e7ee-4367-bd8d-b550ba547e32",
   "metadata": {},
   "outputs": [
    {
     "name": "stdout",
     "output_type": "stream",
     "text": [
      "oranges are in stock.\n"
     ]
    }
   ],
   "source": [
    "item = \"oranges\"\n",
    "if item in inventory:\n",
    "    print(f\"{item} are in stock.\")\n",
    "else:\n",
    "    print(f\"{item} are not in stock\")"
   ]
  },
  {
   "cell_type": "code",
   "execution_count": 81,
   "id": "2c14c38e-c108-4dde-b615-3ee8c2905b43",
   "metadata": {},
   "outputs": [
    {
     "name": "stdout",
     "output_type": "stream",
     "text": [
      "inventory list\n",
      "apples\n",
      "oranges\n",
      "grapes\n",
      "strawberries\n"
     ]
    }
   ],
   "source": [
    "print(\"inventory list\")\n",
    "for item in inventory:\n",
    "    print(f\"{item}\")"
   ]
  },
  {
   "cell_type": "code",
   "execution_count": 83,
   "id": "179e54ae-9c54-45e1-98b9-8c0be7197adb",
   "metadata": {},
   "outputs": [],
   "source": [
    "# Collecting user feedback\n",
    "feedback = [\"Great service!\", \"Very satisfied\", \"Could be better\", \"Excellent experience\"]\n"
   ]
  },
  {
   "cell_type": "code",
   "execution_count": 85,
   "id": "af0c9612-06ee-4c53-9519-d7799228af42",
   "metadata": {},
   "outputs": [],
   "source": [
    "# Adding new feedback\n",
    "feedback.append(\"Not happy with the service\")\n"
   ]
  },
  {
   "cell_type": "code",
   "execution_count": 87,
   "id": "44115f49-b098-4d3e-be55-78721696ad03",
   "metadata": {},
   "outputs": [
    {
     "name": "stdout",
     "output_type": "stream",
     "text": [
      "['Great service!', 'Very satisfied', 'Could be better', 'Excellent experience', 'Not happy with the service']\n"
     ]
    }
   ],
   "source": [
    "print(feedback)"
   ]
  },
  {
   "cell_type": "code",
   "execution_count": 89,
   "id": "8a27579e-e73b-43e4-a344-ca5ef3ad79f6",
   "metadata": {},
   "outputs": [
    {
     "name": "stdout",
     "output_type": "stream",
     "text": [
      "Positive Feedback Count: 2\n"
     ]
    }
   ],
   "source": [
    "# Counting specific feedback\n",
    "positive_feedback_count = sum(1 for comment in feedback if \"great\" in comment.lower() or \"excellent\" in comment.lower())\n",
    "print(f\"Positive Feedback Count: {positive_feedback_count}\")\n"
   ]
  },
  {
   "cell_type": "code",
   "execution_count": 112,
   "id": "63ebe612-2e9d-42f6-b247-e57ccbf0795b",
   "metadata": {},
   "outputs": [
    {
     "name": "stdout",
     "output_type": "stream",
     "text": [
      "user feedback\n",
      " - Great service!\n",
      " - Very satisfied\n",
      " - Could be better\n",
      " - Excellent experience\n",
      " - Not happy with the service\n"
     ]
    }
   ],
   "source": [
    "#all fedback\n",
    "print(\"user feedback\")\n",
    "for comment in feedback:\n",
    "    print(f\" - {comment}\")"
   ]
  },
  {
   "cell_type": "code",
   "execution_count": null,
   "id": "b794d143-b1e8-414e-81af-d003168e37a9",
   "metadata": {},
   "outputs": [],
   "source": []
  },
  {
   "cell_type": "code",
   "execution_count": null,
   "id": "fe79f258-b1ae-42ed-9a66-7869e42faf89",
   "metadata": {},
   "outputs": [],
   "source": []
  },
  {
   "cell_type": "code",
   "execution_count": null,
   "id": "fe57a922-da90-40b9-9ad2-72bb164fb362",
   "metadata": {},
   "outputs": [],
   "source": []
  }
 ],
 "metadata": {
  "kernelspec": {
   "display_name": "Python 3 (ipykernel)",
   "language": "python",
   "name": "python3"
  },
  "language_info": {
   "codemirror_mode": {
    "name": "ipython",
    "version": 3
   },
   "file_extension": ".py",
   "mimetype": "text/x-python",
   "name": "python",
   "nbconvert_exporter": "python",
   "pygments_lexer": "ipython3",
   "version": "3.12.4"
  }
 },
 "nbformat": 4,
 "nbformat_minor": 5
}
